{
  "cells": [
    {
      "cell_type": "markdown",
      "metadata": {
        "id": "d333515a"
      },
      "source": [
        "<h1 align=center style=\"line-height:200%;font-family:vazir;color:#0099cc\">\n",
        "<font face=\"vazir\" color=\"#0099cc\">\n",
        "امید به زندگی\n",
        "</font>\n",
        "</h1>"
      ],
      "id": "d333515a"
    },
    {
      "cell_type": "code",
      "execution_count": null,
      "metadata": {
        "id": "WKzCPevge2WF"
      },
      "outputs": [],
      "source": [
        "#!pip install -r requirements_2.txt"
      ],
      "id": "WKzCPevge2WF"
    },
    {
      "cell_type": "code",
      "execution_count": 1,
      "metadata": {
        "id": "99450f9e"
      },
      "outputs": [],
      "source": [
        "import numpy as np\n",
        "import pandas as pd "
      ],
      "id": "99450f9e"
    },
    {
      "cell_type": "code",
      "execution_count": 2,
      "metadata": {
        "colab": {
          "base_uri": "https://localhost:8080/",
          "height": 523
        },
        "id": "3b94b930",
        "outputId": "dfbe02f7-3090-49ba-d04e-e67658da5c9a"
      },
      "outputs": [
        {
          "output_type": "execute_result",
          "data": {
            "text/plain": [
              "          Country  Year      Status  Population  Hepatitis B  Measles  Polio  \\\n",
              "0     Afghanistan  2015  Developing  33736494.0         65.0     1154    6.0   \n",
              "1     Afghanistan  2014  Developing    327582.0         62.0      492   58.0   \n",
              "2     Afghanistan  2013  Developing  31731688.0         64.0      430   62.0   \n",
              "3     Afghanistan  2012  Developing   3696958.0         67.0     2787   67.0   \n",
              "4     Afghanistan  2011  Developing   2978599.0         68.0     3013   68.0   \n",
              "...           ...   ...         ...         ...          ...      ...    ...   \n",
              "2843     Zimbabwe  2004  Developing  12777511.0         68.0       31   67.0   \n",
              "2844     Zimbabwe  2003  Developing  12633897.0          7.0      998    7.0   \n",
              "2845     Zimbabwe  2002  Developing    125525.0         73.0      304   73.0   \n",
              "2846     Zimbabwe  2001  Developing  12366165.0         76.0      529   76.0   \n",
              "2847     Zimbabwe  2000  Developing  12222251.0         79.0     1483   78.0   \n",
              "\n",
              "      Diphtheria  HIV/AIDS  infant deaths  under-five deaths  \\\n",
              "0           65.0       0.1             62                 83   \n",
              "1           62.0       0.1             64                 86   \n",
              "2           64.0       0.1             66                 89   \n",
              "3           67.0       0.1             69                 93   \n",
              "4           68.0       0.1             71                 97   \n",
              "...          ...       ...            ...                ...   \n",
              "2843        65.0      33.6             27                 42   \n",
              "2844        68.0      36.7             26                 41   \n",
              "2845        71.0      39.8             25                 40   \n",
              "2846        75.0      42.1             25                 39   \n",
              "2847        78.0      43.5             24                 39   \n",
              "\n",
              "      Total expenditure         GDP   BMI  thinness  1-19 years  Alcohol  \\\n",
              "0                  8.16  584.259210  19.1                  17.2     0.01   \n",
              "1                  8.18  612.696514  18.6                  17.5     0.01   \n",
              "2                  8.13  631.744976  18.1                  17.7     0.01   \n",
              "3                  8.52  669.959000  17.6                  17.9     0.01   \n",
              "4                  7.87   63.537231  17.2                  18.2     0.01   \n",
              "...                 ...         ...   ...                   ...      ...   \n",
              "2843               7.13  454.366654  27.1                   9.4     4.36   \n",
              "2844               6.52  453.351155  26.7                   9.8     4.06   \n",
              "2845               6.53   57.348340  26.3                   1.2     4.43   \n",
              "2846               6.16  548.587312  25.9                   1.6     1.72   \n",
              "2847               7.10  547.358878  25.5                  11.0     1.68   \n",
              "\n",
              "      Schooling  Life expectancy  \n",
              "0          10.1             65.0  \n",
              "1          10.0             59.9  \n",
              "2           9.9             59.9  \n",
              "3           9.8             59.5  \n",
              "4           9.5             59.2  \n",
              "...         ...              ...  \n",
              "2843        9.2             44.3  \n",
              "2844        9.5             44.5  \n",
              "2845       10.0             44.8  \n",
              "2846        9.8             45.3  \n",
              "2847        9.8             46.0  \n",
              "\n",
              "[2848 rows x 18 columns]"
            ],
            "text/html": [
              "\n",
              "  <div id=\"df-5ab41f60-a670-4e1a-847f-547f85860643\">\n",
              "    <div class=\"colab-df-container\">\n",
              "      <div>\n",
              "<style scoped>\n",
              "    .dataframe tbody tr th:only-of-type {\n",
              "        vertical-align: middle;\n",
              "    }\n",
              "\n",
              "    .dataframe tbody tr th {\n",
              "        vertical-align: top;\n",
              "    }\n",
              "\n",
              "    .dataframe thead th {\n",
              "        text-align: right;\n",
              "    }\n",
              "</style>\n",
              "<table border=\"1\" class=\"dataframe\">\n",
              "  <thead>\n",
              "    <tr style=\"text-align: right;\">\n",
              "      <th></th>\n",
              "      <th>Country</th>\n",
              "      <th>Year</th>\n",
              "      <th>Status</th>\n",
              "      <th>Population</th>\n",
              "      <th>Hepatitis B</th>\n",
              "      <th>Measles</th>\n",
              "      <th>Polio</th>\n",
              "      <th>Diphtheria</th>\n",
              "      <th>HIV/AIDS</th>\n",
              "      <th>infant deaths</th>\n",
              "      <th>under-five deaths</th>\n",
              "      <th>Total expenditure</th>\n",
              "      <th>GDP</th>\n",
              "      <th>BMI</th>\n",
              "      <th>thinness  1-19 years</th>\n",
              "      <th>Alcohol</th>\n",
              "      <th>Schooling</th>\n",
              "      <th>Life expectancy</th>\n",
              "    </tr>\n",
              "  </thead>\n",
              "  <tbody>\n",
              "    <tr>\n",
              "      <th>0</th>\n",
              "      <td>Afghanistan</td>\n",
              "      <td>2015</td>\n",
              "      <td>Developing</td>\n",
              "      <td>33736494.0</td>\n",
              "      <td>65.0</td>\n",
              "      <td>1154</td>\n",
              "      <td>6.0</td>\n",
              "      <td>65.0</td>\n",
              "      <td>0.1</td>\n",
              "      <td>62</td>\n",
              "      <td>83</td>\n",
              "      <td>8.16</td>\n",
              "      <td>584.259210</td>\n",
              "      <td>19.1</td>\n",
              "      <td>17.2</td>\n",
              "      <td>0.01</td>\n",
              "      <td>10.1</td>\n",
              "      <td>65.0</td>\n",
              "    </tr>\n",
              "    <tr>\n",
              "      <th>1</th>\n",
              "      <td>Afghanistan</td>\n",
              "      <td>2014</td>\n",
              "      <td>Developing</td>\n",
              "      <td>327582.0</td>\n",
              "      <td>62.0</td>\n",
              "      <td>492</td>\n",
              "      <td>58.0</td>\n",
              "      <td>62.0</td>\n",
              "      <td>0.1</td>\n",
              "      <td>64</td>\n",
              "      <td>86</td>\n",
              "      <td>8.18</td>\n",
              "      <td>612.696514</td>\n",
              "      <td>18.6</td>\n",
              "      <td>17.5</td>\n",
              "      <td>0.01</td>\n",
              "      <td>10.0</td>\n",
              "      <td>59.9</td>\n",
              "    </tr>\n",
              "    <tr>\n",
              "      <th>2</th>\n",
              "      <td>Afghanistan</td>\n",
              "      <td>2013</td>\n",
              "      <td>Developing</td>\n",
              "      <td>31731688.0</td>\n",
              "      <td>64.0</td>\n",
              "      <td>430</td>\n",
              "      <td>62.0</td>\n",
              "      <td>64.0</td>\n",
              "      <td>0.1</td>\n",
              "      <td>66</td>\n",
              "      <td>89</td>\n",
              "      <td>8.13</td>\n",
              "      <td>631.744976</td>\n",
              "      <td>18.1</td>\n",
              "      <td>17.7</td>\n",
              "      <td>0.01</td>\n",
              "      <td>9.9</td>\n",
              "      <td>59.9</td>\n",
              "    </tr>\n",
              "    <tr>\n",
              "      <th>3</th>\n",
              "      <td>Afghanistan</td>\n",
              "      <td>2012</td>\n",
              "      <td>Developing</td>\n",
              "      <td>3696958.0</td>\n",
              "      <td>67.0</td>\n",
              "      <td>2787</td>\n",
              "      <td>67.0</td>\n",
              "      <td>67.0</td>\n",
              "      <td>0.1</td>\n",
              "      <td>69</td>\n",
              "      <td>93</td>\n",
              "      <td>8.52</td>\n",
              "      <td>669.959000</td>\n",
              "      <td>17.6</td>\n",
              "      <td>17.9</td>\n",
              "      <td>0.01</td>\n",
              "      <td>9.8</td>\n",
              "      <td>59.5</td>\n",
              "    </tr>\n",
              "    <tr>\n",
              "      <th>4</th>\n",
              "      <td>Afghanistan</td>\n",
              "      <td>2011</td>\n",
              "      <td>Developing</td>\n",
              "      <td>2978599.0</td>\n",
              "      <td>68.0</td>\n",
              "      <td>3013</td>\n",
              "      <td>68.0</td>\n",
              "      <td>68.0</td>\n",
              "      <td>0.1</td>\n",
              "      <td>71</td>\n",
              "      <td>97</td>\n",
              "      <td>7.87</td>\n",
              "      <td>63.537231</td>\n",
              "      <td>17.2</td>\n",
              "      <td>18.2</td>\n",
              "      <td>0.01</td>\n",
              "      <td>9.5</td>\n",
              "      <td>59.2</td>\n",
              "    </tr>\n",
              "    <tr>\n",
              "      <th>...</th>\n",
              "      <td>...</td>\n",
              "      <td>...</td>\n",
              "      <td>...</td>\n",
              "      <td>...</td>\n",
              "      <td>...</td>\n",
              "      <td>...</td>\n",
              "      <td>...</td>\n",
              "      <td>...</td>\n",
              "      <td>...</td>\n",
              "      <td>...</td>\n",
              "      <td>...</td>\n",
              "      <td>...</td>\n",
              "      <td>...</td>\n",
              "      <td>...</td>\n",
              "      <td>...</td>\n",
              "      <td>...</td>\n",
              "      <td>...</td>\n",
              "      <td>...</td>\n",
              "    </tr>\n",
              "    <tr>\n",
              "      <th>2843</th>\n",
              "      <td>Zimbabwe</td>\n",
              "      <td>2004</td>\n",
              "      <td>Developing</td>\n",
              "      <td>12777511.0</td>\n",
              "      <td>68.0</td>\n",
              "      <td>31</td>\n",
              "      <td>67.0</td>\n",
              "      <td>65.0</td>\n",
              "      <td>33.6</td>\n",
              "      <td>27</td>\n",
              "      <td>42</td>\n",
              "      <td>7.13</td>\n",
              "      <td>454.366654</td>\n",
              "      <td>27.1</td>\n",
              "      <td>9.4</td>\n",
              "      <td>4.36</td>\n",
              "      <td>9.2</td>\n",
              "      <td>44.3</td>\n",
              "    </tr>\n",
              "    <tr>\n",
              "      <th>2844</th>\n",
              "      <td>Zimbabwe</td>\n",
              "      <td>2003</td>\n",
              "      <td>Developing</td>\n",
              "      <td>12633897.0</td>\n",
              "      <td>7.0</td>\n",
              "      <td>998</td>\n",
              "      <td>7.0</td>\n",
              "      <td>68.0</td>\n",
              "      <td>36.7</td>\n",
              "      <td>26</td>\n",
              "      <td>41</td>\n",
              "      <td>6.52</td>\n",
              "      <td>453.351155</td>\n",
              "      <td>26.7</td>\n",
              "      <td>9.8</td>\n",
              "      <td>4.06</td>\n",
              "      <td>9.5</td>\n",
              "      <td>44.5</td>\n",
              "    </tr>\n",
              "    <tr>\n",
              "      <th>2845</th>\n",
              "      <td>Zimbabwe</td>\n",
              "      <td>2002</td>\n",
              "      <td>Developing</td>\n",
              "      <td>125525.0</td>\n",
              "      <td>73.0</td>\n",
              "      <td>304</td>\n",
              "      <td>73.0</td>\n",
              "      <td>71.0</td>\n",
              "      <td>39.8</td>\n",
              "      <td>25</td>\n",
              "      <td>40</td>\n",
              "      <td>6.53</td>\n",
              "      <td>57.348340</td>\n",
              "      <td>26.3</td>\n",
              "      <td>1.2</td>\n",
              "      <td>4.43</td>\n",
              "      <td>10.0</td>\n",
              "      <td>44.8</td>\n",
              "    </tr>\n",
              "    <tr>\n",
              "      <th>2846</th>\n",
              "      <td>Zimbabwe</td>\n",
              "      <td>2001</td>\n",
              "      <td>Developing</td>\n",
              "      <td>12366165.0</td>\n",
              "      <td>76.0</td>\n",
              "      <td>529</td>\n",
              "      <td>76.0</td>\n",
              "      <td>75.0</td>\n",
              "      <td>42.1</td>\n",
              "      <td>25</td>\n",
              "      <td>39</td>\n",
              "      <td>6.16</td>\n",
              "      <td>548.587312</td>\n",
              "      <td>25.9</td>\n",
              "      <td>1.6</td>\n",
              "      <td>1.72</td>\n",
              "      <td>9.8</td>\n",
              "      <td>45.3</td>\n",
              "    </tr>\n",
              "    <tr>\n",
              "      <th>2847</th>\n",
              "      <td>Zimbabwe</td>\n",
              "      <td>2000</td>\n",
              "      <td>Developing</td>\n",
              "      <td>12222251.0</td>\n",
              "      <td>79.0</td>\n",
              "      <td>1483</td>\n",
              "      <td>78.0</td>\n",
              "      <td>78.0</td>\n",
              "      <td>43.5</td>\n",
              "      <td>24</td>\n",
              "      <td>39</td>\n",
              "      <td>7.10</td>\n",
              "      <td>547.358878</td>\n",
              "      <td>25.5</td>\n",
              "      <td>11.0</td>\n",
              "      <td>1.68</td>\n",
              "      <td>9.8</td>\n",
              "      <td>46.0</td>\n",
              "    </tr>\n",
              "  </tbody>\n",
              "</table>\n",
              "<p>2848 rows × 18 columns</p>\n",
              "</div>\n",
              "      <button class=\"colab-df-convert\" onclick=\"convertToInteractive('df-5ab41f60-a670-4e1a-847f-547f85860643')\"\n",
              "              title=\"Convert this dataframe to an interactive table.\"\n",
              "              style=\"display:none;\">\n",
              "        \n",
              "  <svg xmlns=\"http://www.w3.org/2000/svg\" height=\"24px\"viewBox=\"0 0 24 24\"\n",
              "       width=\"24px\">\n",
              "    <path d=\"M0 0h24v24H0V0z\" fill=\"none\"/>\n",
              "    <path d=\"M18.56 5.44l.94 2.06.94-2.06 2.06-.94-2.06-.94-.94-2.06-.94 2.06-2.06.94zm-11 1L8.5 8.5l.94-2.06 2.06-.94-2.06-.94L8.5 2.5l-.94 2.06-2.06.94zm10 10l.94 2.06.94-2.06 2.06-.94-2.06-.94-.94-2.06-.94 2.06-2.06.94z\"/><path d=\"M17.41 7.96l-1.37-1.37c-.4-.4-.92-.59-1.43-.59-.52 0-1.04.2-1.43.59L10.3 9.45l-7.72 7.72c-.78.78-.78 2.05 0 2.83L4 21.41c.39.39.9.59 1.41.59.51 0 1.02-.2 1.41-.59l7.78-7.78 2.81-2.81c.8-.78.8-2.07 0-2.86zM5.41 20L4 18.59l7.72-7.72 1.47 1.35L5.41 20z\"/>\n",
              "  </svg>\n",
              "      </button>\n",
              "      \n",
              "  <style>\n",
              "    .colab-df-container {\n",
              "      display:flex;\n",
              "      flex-wrap:wrap;\n",
              "      gap: 12px;\n",
              "    }\n",
              "\n",
              "    .colab-df-convert {\n",
              "      background-color: #E8F0FE;\n",
              "      border: none;\n",
              "      border-radius: 50%;\n",
              "      cursor: pointer;\n",
              "      display: none;\n",
              "      fill: #1967D2;\n",
              "      height: 32px;\n",
              "      padding: 0 0 0 0;\n",
              "      width: 32px;\n",
              "    }\n",
              "\n",
              "    .colab-df-convert:hover {\n",
              "      background-color: #E2EBFA;\n",
              "      box-shadow: 0px 1px 2px rgba(60, 64, 67, 0.3), 0px 1px 3px 1px rgba(60, 64, 67, 0.15);\n",
              "      fill: #174EA6;\n",
              "    }\n",
              "\n",
              "    [theme=dark] .colab-df-convert {\n",
              "      background-color: #3B4455;\n",
              "      fill: #D2E3FC;\n",
              "    }\n",
              "\n",
              "    [theme=dark] .colab-df-convert:hover {\n",
              "      background-color: #434B5C;\n",
              "      box-shadow: 0px 1px 3px 1px rgba(0, 0, 0, 0.15);\n",
              "      filter: drop-shadow(0px 1px 2px rgba(0, 0, 0, 0.3));\n",
              "      fill: #FFFFFF;\n",
              "    }\n",
              "  </style>\n",
              "\n",
              "      <script>\n",
              "        const buttonEl =\n",
              "          document.querySelector('#df-5ab41f60-a670-4e1a-847f-547f85860643 button.colab-df-convert');\n",
              "        buttonEl.style.display =\n",
              "          google.colab.kernel.accessAllowed ? 'block' : 'none';\n",
              "\n",
              "        async function convertToInteractive(key) {\n",
              "          const element = document.querySelector('#df-5ab41f60-a670-4e1a-847f-547f85860643');\n",
              "          const dataTable =\n",
              "            await google.colab.kernel.invokeFunction('convertToInteractive',\n",
              "                                                     [key], {});\n",
              "          if (!dataTable) return;\n",
              "\n",
              "          const docLinkHtml = 'Like what you see? Visit the ' +\n",
              "            '<a target=\"_blank\" href=https://colab.research.google.com/notebooks/data_table.ipynb>data table notebook</a>'\n",
              "            + ' to learn more about interactive tables.';\n",
              "          element.innerHTML = '';\n",
              "          dataTable['output_type'] = 'display_data';\n",
              "          await google.colab.output.renderOutput(dataTable, element);\n",
              "          const docLink = document.createElement('div');\n",
              "          docLink.innerHTML = docLinkHtml;\n",
              "          element.appendChild(docLink);\n",
              "        }\n",
              "      </script>\n",
              "    </div>\n",
              "  </div>\n",
              "  "
            ]
          },
          "metadata": {},
          "execution_count": 2
        }
      ],
      "source": [
        "train_data = pd.read_csv('train.csv')\n",
        "train_data"
      ],
      "id": "3b94b930"
    },
    {
      "cell_type": "code",
      "execution_count": 3,
      "metadata": {
        "colab": {
          "base_uri": "https://localhost:8080/",
          "height": 696
        },
        "id": "01faf7be",
        "outputId": "0d04d7e3-e8a2-438c-d599-6dbe01a75bff"
      },
      "outputs": [
        {
          "output_type": "execute_result",
          "data": {
            "text/plain": [
              "             Country  Year      Status  Population  Hepatitis B  Measles  \\\n",
              "0            Burundi  2015  Developing    119927.0         94.0        9   \n",
              "1            Burundi  2014  Developing    989179.0         95.0        0   \n",
              "2            Burundi  2013  Developing     96186.0         96.0        0   \n",
              "3            Burundi  2012  Developing    931971.0         96.0       49   \n",
              "4            Burundi  2011  Developing     94358.0         96.0      129   \n",
              "..               ...   ...         ...         ...          ...      ...   \n",
              "75  Papua New Guinea  2004  Developing   6161517.0          6.0     1385   \n",
              "76  Papua New Guinea  2003  Developing     61724.0         67.0     3863   \n",
              "77  Papua New Guinea  2002  Developing   5862316.0          6.0    17620   \n",
              "78  Papua New Guinea  2001  Developing   5716152.0         59.0     4023   \n",
              "79  Papua New Guinea  2000  Developing   5572222.0         57.0     7135   \n",
              "\n",
              "    Polio  Diphtheria  HIV/AIDS  infant deaths  under-five deaths  \\\n",
              "0    94.0        94.0       0.7             21                 31   \n",
              "1    95.0        95.0       0.7             22                 32   \n",
              "2    96.0        96.0       1.0             22                 32   \n",
              "3    96.0        96.0       1.2             22                 33   \n",
              "4    95.0        96.0       1.5             22                 33   \n",
              "..    ...         ...       ...            ...                ...   \n",
              "75   59.0        62.0       1.5             11                 15   \n",
              "76   62.0        68.0       1.4             11                 14   \n",
              "77   54.0        61.0       1.4             11                 14   \n",
              "78   52.0        55.0       1.3             11                 14   \n",
              "79   51.0        59.0       1.1             11                 14   \n",
              "\n",
              "    Total expenditure         GDP   BMI  thinness  1-19 years  Alcohol  \\\n",
              "0                 NaN   33.681223  18.7                   7.3      NaN   \n",
              "1                7.54  312.748979  18.2                   7.4     0.01   \n",
              "2                8.30  282.755525  17.6                   7.4     0.01   \n",
              "3                8.21  265.285651  17.1                   7.5     0.01   \n",
              "4                8.58   26.479973  16.6                   7.6     4.16   \n",
              "..                ...         ...   ...                   ...      ...   \n",
              "75               8.39  637.361621   4.4                   1.5     0.58   \n",
              "76               6.79  588.358260  39.6                   1.5     0.59   \n",
              "77               7.69  511.665773  38.9                   1.5     0.61   \n",
              "78               6.68  539.415280  38.2                   1.5     0.68   \n",
              "79               3.98  631.946853  37.5                   1.6     0.73   \n",
              "\n",
              "    Schooling  \n",
              "0        10.6  \n",
              "1        10.6  \n",
              "2        10.5  \n",
              "3        10.3  \n",
              "4         9.9  \n",
              "..        ...  \n",
              "75        7.6  \n",
              "76        7.2  \n",
              "77        6.9  \n",
              "78        6.6  \n",
              "79        6.2  \n",
              "\n",
              "[80 rows x 17 columns]"
            ],
            "text/html": [
              "\n",
              "  <div id=\"df-ec76962b-ee10-41f7-acdd-1f2d3170856a\">\n",
              "    <div class=\"colab-df-container\">\n",
              "      <div>\n",
              "<style scoped>\n",
              "    .dataframe tbody tr th:only-of-type {\n",
              "        vertical-align: middle;\n",
              "    }\n",
              "\n",
              "    .dataframe tbody tr th {\n",
              "        vertical-align: top;\n",
              "    }\n",
              "\n",
              "    .dataframe thead th {\n",
              "        text-align: right;\n",
              "    }\n",
              "</style>\n",
              "<table border=\"1\" class=\"dataframe\">\n",
              "  <thead>\n",
              "    <tr style=\"text-align: right;\">\n",
              "      <th></th>\n",
              "      <th>Country</th>\n",
              "      <th>Year</th>\n",
              "      <th>Status</th>\n",
              "      <th>Population</th>\n",
              "      <th>Hepatitis B</th>\n",
              "      <th>Measles</th>\n",
              "      <th>Polio</th>\n",
              "      <th>Diphtheria</th>\n",
              "      <th>HIV/AIDS</th>\n",
              "      <th>infant deaths</th>\n",
              "      <th>under-five deaths</th>\n",
              "      <th>Total expenditure</th>\n",
              "      <th>GDP</th>\n",
              "      <th>BMI</th>\n",
              "      <th>thinness  1-19 years</th>\n",
              "      <th>Alcohol</th>\n",
              "      <th>Schooling</th>\n",
              "    </tr>\n",
              "  </thead>\n",
              "  <tbody>\n",
              "    <tr>\n",
              "      <th>0</th>\n",
              "      <td>Burundi</td>\n",
              "      <td>2015</td>\n",
              "      <td>Developing</td>\n",
              "      <td>119927.0</td>\n",
              "      <td>94.0</td>\n",
              "      <td>9</td>\n",
              "      <td>94.0</td>\n",
              "      <td>94.0</td>\n",
              "      <td>0.7</td>\n",
              "      <td>21</td>\n",
              "      <td>31</td>\n",
              "      <td>NaN</td>\n",
              "      <td>33.681223</td>\n",
              "      <td>18.7</td>\n",
              "      <td>7.3</td>\n",
              "      <td>NaN</td>\n",
              "      <td>10.6</td>\n",
              "    </tr>\n",
              "    <tr>\n",
              "      <th>1</th>\n",
              "      <td>Burundi</td>\n",
              "      <td>2014</td>\n",
              "      <td>Developing</td>\n",
              "      <td>989179.0</td>\n",
              "      <td>95.0</td>\n",
              "      <td>0</td>\n",
              "      <td>95.0</td>\n",
              "      <td>95.0</td>\n",
              "      <td>0.7</td>\n",
              "      <td>22</td>\n",
              "      <td>32</td>\n",
              "      <td>7.54</td>\n",
              "      <td>312.748979</td>\n",
              "      <td>18.2</td>\n",
              "      <td>7.4</td>\n",
              "      <td>0.01</td>\n",
              "      <td>10.6</td>\n",
              "    </tr>\n",
              "    <tr>\n",
              "      <th>2</th>\n",
              "      <td>Burundi</td>\n",
              "      <td>2013</td>\n",
              "      <td>Developing</td>\n",
              "      <td>96186.0</td>\n",
              "      <td>96.0</td>\n",
              "      <td>0</td>\n",
              "      <td>96.0</td>\n",
              "      <td>96.0</td>\n",
              "      <td>1.0</td>\n",
              "      <td>22</td>\n",
              "      <td>32</td>\n",
              "      <td>8.30</td>\n",
              "      <td>282.755525</td>\n",
              "      <td>17.6</td>\n",
              "      <td>7.4</td>\n",
              "      <td>0.01</td>\n",
              "      <td>10.5</td>\n",
              "    </tr>\n",
              "    <tr>\n",
              "      <th>3</th>\n",
              "      <td>Burundi</td>\n",
              "      <td>2012</td>\n",
              "      <td>Developing</td>\n",
              "      <td>931971.0</td>\n",
              "      <td>96.0</td>\n",
              "      <td>49</td>\n",
              "      <td>96.0</td>\n",
              "      <td>96.0</td>\n",
              "      <td>1.2</td>\n",
              "      <td>22</td>\n",
              "      <td>33</td>\n",
              "      <td>8.21</td>\n",
              "      <td>265.285651</td>\n",
              "      <td>17.1</td>\n",
              "      <td>7.5</td>\n",
              "      <td>0.01</td>\n",
              "      <td>10.3</td>\n",
              "    </tr>\n",
              "    <tr>\n",
              "      <th>4</th>\n",
              "      <td>Burundi</td>\n",
              "      <td>2011</td>\n",
              "      <td>Developing</td>\n",
              "      <td>94358.0</td>\n",
              "      <td>96.0</td>\n",
              "      <td>129</td>\n",
              "      <td>95.0</td>\n",
              "      <td>96.0</td>\n",
              "      <td>1.5</td>\n",
              "      <td>22</td>\n",
              "      <td>33</td>\n",
              "      <td>8.58</td>\n",
              "      <td>26.479973</td>\n",
              "      <td>16.6</td>\n",
              "      <td>7.6</td>\n",
              "      <td>4.16</td>\n",
              "      <td>9.9</td>\n",
              "    </tr>\n",
              "    <tr>\n",
              "      <th>...</th>\n",
              "      <td>...</td>\n",
              "      <td>...</td>\n",
              "      <td>...</td>\n",
              "      <td>...</td>\n",
              "      <td>...</td>\n",
              "      <td>...</td>\n",
              "      <td>...</td>\n",
              "      <td>...</td>\n",
              "      <td>...</td>\n",
              "      <td>...</td>\n",
              "      <td>...</td>\n",
              "      <td>...</td>\n",
              "      <td>...</td>\n",
              "      <td>...</td>\n",
              "      <td>...</td>\n",
              "      <td>...</td>\n",
              "      <td>...</td>\n",
              "    </tr>\n",
              "    <tr>\n",
              "      <th>75</th>\n",
              "      <td>Papua New Guinea</td>\n",
              "      <td>2004</td>\n",
              "      <td>Developing</td>\n",
              "      <td>6161517.0</td>\n",
              "      <td>6.0</td>\n",
              "      <td>1385</td>\n",
              "      <td>59.0</td>\n",
              "      <td>62.0</td>\n",
              "      <td>1.5</td>\n",
              "      <td>11</td>\n",
              "      <td>15</td>\n",
              "      <td>8.39</td>\n",
              "      <td>637.361621</td>\n",
              "      <td>4.4</td>\n",
              "      <td>1.5</td>\n",
              "      <td>0.58</td>\n",
              "      <td>7.6</td>\n",
              "    </tr>\n",
              "    <tr>\n",
              "      <th>76</th>\n",
              "      <td>Papua New Guinea</td>\n",
              "      <td>2003</td>\n",
              "      <td>Developing</td>\n",
              "      <td>61724.0</td>\n",
              "      <td>67.0</td>\n",
              "      <td>3863</td>\n",
              "      <td>62.0</td>\n",
              "      <td>68.0</td>\n",
              "      <td>1.4</td>\n",
              "      <td>11</td>\n",
              "      <td>14</td>\n",
              "      <td>6.79</td>\n",
              "      <td>588.358260</td>\n",
              "      <td>39.6</td>\n",
              "      <td>1.5</td>\n",
              "      <td>0.59</td>\n",
              "      <td>7.2</td>\n",
              "    </tr>\n",
              "    <tr>\n",
              "      <th>77</th>\n",
              "      <td>Papua New Guinea</td>\n",
              "      <td>2002</td>\n",
              "      <td>Developing</td>\n",
              "      <td>5862316.0</td>\n",
              "      <td>6.0</td>\n",
              "      <td>17620</td>\n",
              "      <td>54.0</td>\n",
              "      <td>61.0</td>\n",
              "      <td>1.4</td>\n",
              "      <td>11</td>\n",
              "      <td>14</td>\n",
              "      <td>7.69</td>\n",
              "      <td>511.665773</td>\n",
              "      <td>38.9</td>\n",
              "      <td>1.5</td>\n",
              "      <td>0.61</td>\n",
              "      <td>6.9</td>\n",
              "    </tr>\n",
              "    <tr>\n",
              "      <th>78</th>\n",
              "      <td>Papua New Guinea</td>\n",
              "      <td>2001</td>\n",
              "      <td>Developing</td>\n",
              "      <td>5716152.0</td>\n",
              "      <td>59.0</td>\n",
              "      <td>4023</td>\n",
              "      <td>52.0</td>\n",
              "      <td>55.0</td>\n",
              "      <td>1.3</td>\n",
              "      <td>11</td>\n",
              "      <td>14</td>\n",
              "      <td>6.68</td>\n",
              "      <td>539.415280</td>\n",
              "      <td>38.2</td>\n",
              "      <td>1.5</td>\n",
              "      <td>0.68</td>\n",
              "      <td>6.6</td>\n",
              "    </tr>\n",
              "    <tr>\n",
              "      <th>79</th>\n",
              "      <td>Papua New Guinea</td>\n",
              "      <td>2000</td>\n",
              "      <td>Developing</td>\n",
              "      <td>5572222.0</td>\n",
              "      <td>57.0</td>\n",
              "      <td>7135</td>\n",
              "      <td>51.0</td>\n",
              "      <td>59.0</td>\n",
              "      <td>1.1</td>\n",
              "      <td>11</td>\n",
              "      <td>14</td>\n",
              "      <td>3.98</td>\n",
              "      <td>631.946853</td>\n",
              "      <td>37.5</td>\n",
              "      <td>1.6</td>\n",
              "      <td>0.73</td>\n",
              "      <td>6.2</td>\n",
              "    </tr>\n",
              "  </tbody>\n",
              "</table>\n",
              "<p>80 rows × 17 columns</p>\n",
              "</div>\n",
              "      <button class=\"colab-df-convert\" onclick=\"convertToInteractive('df-ec76962b-ee10-41f7-acdd-1f2d3170856a')\"\n",
              "              title=\"Convert this dataframe to an interactive table.\"\n",
              "              style=\"display:none;\">\n",
              "        \n",
              "  <svg xmlns=\"http://www.w3.org/2000/svg\" height=\"24px\"viewBox=\"0 0 24 24\"\n",
              "       width=\"24px\">\n",
              "    <path d=\"M0 0h24v24H0V0z\" fill=\"none\"/>\n",
              "    <path d=\"M18.56 5.44l.94 2.06.94-2.06 2.06-.94-2.06-.94-.94-2.06-.94 2.06-2.06.94zm-11 1L8.5 8.5l.94-2.06 2.06-.94-2.06-.94L8.5 2.5l-.94 2.06-2.06.94zm10 10l.94 2.06.94-2.06 2.06-.94-2.06-.94-.94-2.06-.94 2.06-2.06.94z\"/><path d=\"M17.41 7.96l-1.37-1.37c-.4-.4-.92-.59-1.43-.59-.52 0-1.04.2-1.43.59L10.3 9.45l-7.72 7.72c-.78.78-.78 2.05 0 2.83L4 21.41c.39.39.9.59 1.41.59.51 0 1.02-.2 1.41-.59l7.78-7.78 2.81-2.81c.8-.78.8-2.07 0-2.86zM5.41 20L4 18.59l7.72-7.72 1.47 1.35L5.41 20z\"/>\n",
              "  </svg>\n",
              "      </button>\n",
              "      \n",
              "  <style>\n",
              "    .colab-df-container {\n",
              "      display:flex;\n",
              "      flex-wrap:wrap;\n",
              "      gap: 12px;\n",
              "    }\n",
              "\n",
              "    .colab-df-convert {\n",
              "      background-color: #E8F0FE;\n",
              "      border: none;\n",
              "      border-radius: 50%;\n",
              "      cursor: pointer;\n",
              "      display: none;\n",
              "      fill: #1967D2;\n",
              "      height: 32px;\n",
              "      padding: 0 0 0 0;\n",
              "      width: 32px;\n",
              "    }\n",
              "\n",
              "    .colab-df-convert:hover {\n",
              "      background-color: #E2EBFA;\n",
              "      box-shadow: 0px 1px 2px rgba(60, 64, 67, 0.3), 0px 1px 3px 1px rgba(60, 64, 67, 0.15);\n",
              "      fill: #174EA6;\n",
              "    }\n",
              "\n",
              "    [theme=dark] .colab-df-convert {\n",
              "      background-color: #3B4455;\n",
              "      fill: #D2E3FC;\n",
              "    }\n",
              "\n",
              "    [theme=dark] .colab-df-convert:hover {\n",
              "      background-color: #434B5C;\n",
              "      box-shadow: 0px 1px 3px 1px rgba(0, 0, 0, 0.15);\n",
              "      filter: drop-shadow(0px 1px 2px rgba(0, 0, 0, 0.3));\n",
              "      fill: #FFFFFF;\n",
              "    }\n",
              "  </style>\n",
              "\n",
              "      <script>\n",
              "        const buttonEl =\n",
              "          document.querySelector('#df-ec76962b-ee10-41f7-acdd-1f2d3170856a button.colab-df-convert');\n",
              "        buttonEl.style.display =\n",
              "          google.colab.kernel.accessAllowed ? 'block' : 'none';\n",
              "\n",
              "        async function convertToInteractive(key) {\n",
              "          const element = document.querySelector('#df-ec76962b-ee10-41f7-acdd-1f2d3170856a');\n",
              "          const dataTable =\n",
              "            await google.colab.kernel.invokeFunction('convertToInteractive',\n",
              "                                                     [key], {});\n",
              "          if (!dataTable) return;\n",
              "\n",
              "          const docLinkHtml = 'Like what you see? Visit the ' +\n",
              "            '<a target=\"_blank\" href=https://colab.research.google.com/notebooks/data_table.ipynb>data table notebook</a>'\n",
              "            + ' to learn more about interactive tables.';\n",
              "          element.innerHTML = '';\n",
              "          dataTable['output_type'] = 'display_data';\n",
              "          await google.colab.output.renderOutput(dataTable, element);\n",
              "          const docLink = document.createElement('div');\n",
              "          docLink.innerHTML = docLinkHtml;\n",
              "          element.appendChild(docLink);\n",
              "        }\n",
              "      </script>\n",
              "    </div>\n",
              "  </div>\n",
              "  "
            ]
          },
          "metadata": {},
          "execution_count": 3
        }
      ],
      "source": [
        "test_data = pd.read_csv('test.csv')\n",
        "test_data"
      ],
      "id": "01faf7be"
    },
    {
      "cell_type": "markdown",
      "source": [
        "**preparation**"
      ],
      "metadata": {
        "id": "fzuEoRbd3A8M"
      },
      "id": "fzuEoRbd3A8M"
    },
    {
      "cell_type": "code",
      "execution_count": 5,
      "metadata": {
        "colab": {
          "base_uri": "https://localhost:8080/"
        },
        "id": "qr8B8RJmoey6",
        "outputId": "9dd6a391-b7b1-4272-db78-c61849e9d112"
      },
      "outputs": [
        {
          "output_type": "execute_result",
          "data": {
            "text/plain": [
              "array([0, 1])"
            ]
          },
          "metadata": {},
          "execution_count": 5
        }
      ],
      "source": [
        "train_data['Status'].unique()"
      ],
      "id": "qr8B8RJmoey6"
    },
    {
      "cell_type": "code",
      "execution_count": 4,
      "metadata": {
        "id": "1Krxx7KHrMhR"
      },
      "outputs": [],
      "source": [
        "Status = {'Developing': 0,\n",
        "          'Developed' : 1,}\n",
        "\n",
        "train_data['Status'] = train_data['Status'].map(Status)\n",
        "test_data['Status'] = test_data['Status'].map(Status)"
      ],
      "id": "1Krxx7KHrMhR"
    },
    {
      "cell_type": "code",
      "execution_count": 20,
      "metadata": {
        "colab": {
          "base_uri": "https://localhost:8080/"
        },
        "id": "RjJPSJqpu_8g",
        "outputId": "b6e1baed-a1c2-4e14-ac7f-db8c2db3b998"
      },
      "outputs": [
        {
          "output_type": "execute_result",
          "data": {
            "text/plain": [
              "Country                 0\n",
              "Year                    0\n",
              "Status                  0\n",
              "Population              0\n",
              "Hepatitis B             0\n",
              "Measles                 0\n",
              "Polio                   0\n",
              "Diphtheria              0\n",
              "HIV/AIDS                0\n",
              "infant deaths           0\n",
              "under-five deaths       0\n",
              "Total expenditure       0\n",
              "GDP                     0\n",
              "BMI                     0\n",
              "thinness  1-19 years    0\n",
              "Alcohol                 0\n",
              "Schooling               0\n",
              "Life expectancy         0\n",
              "dtype: int64"
            ]
          },
          "metadata": {},
          "execution_count": 20
        }
      ],
      "source": [
        "train_data.isnull().sum()"
      ],
      "id": "RjJPSJqpu_8g"
    },
    {
      "cell_type": "code",
      "execution_count": 21,
      "metadata": {
        "colab": {
          "base_uri": "https://localhost:8080/"
        },
        "id": "6TrM7sDZrqTy",
        "outputId": "63db5e6f-b21b-450e-95f7-9112360a150b"
      },
      "outputs": [
        {
          "output_type": "execute_result",
          "data": {
            "text/plain": [
              "Country                 0\n",
              "Year                    0\n",
              "Status                  0\n",
              "Population              0\n",
              "Hepatitis B             0\n",
              "Measles                 0\n",
              "Polio                   0\n",
              "Diphtheria              0\n",
              "HIV/AIDS                0\n",
              "infant deaths           0\n",
              "under-five deaths       0\n",
              "Total expenditure       0\n",
              "GDP                     0\n",
              "BMI                     0\n",
              "thinness  1-19 years    0\n",
              "Alcohol                 0\n",
              "Schooling               0\n",
              "dtype: int64"
            ]
          },
          "metadata": {},
          "execution_count": 21
        }
      ],
      "source": [
        "test_data.isnull().sum()"
      ],
      "id": "6TrM7sDZrqTy"
    },
    {
      "cell_type": "code",
      "execution_count": 10,
      "metadata": {
        "id": "QfywooE9xBhV"
      },
      "outputs": [],
      "source": [
        "train_data['Polio'] = train_data['Polio'].fillna(train_data['Polio'].median())\n",
        "train_data['Diphtheria'] = train_data['Diphtheria'].fillna(train_data['Diphtheria'].median())"
      ],
      "id": "QfywooE9xBhV"
    },
    {
      "cell_type": "code",
      "execution_count": 11,
      "metadata": {
        "id": "52rSG5qB53iq"
      },
      "outputs": [],
      "source": [
        "train_Population = train_data['Population'].median()\n",
        "\n",
        "train_data['Population'] = train_data['Population'].fillna(train_Population)"
      ],
      "id": "52rSG5qB53iq"
    },
    {
      "cell_type": "code",
      "execution_count": 12,
      "metadata": {
        "id": "TyYriQF-7Ewk"
      },
      "outputs": [],
      "source": [
        "train_B = train_data['Hepatitis B'].median()\n",
        "\n",
        "train_data['Hepatitis B'] = train_data['Hepatitis B'].fillna(train_B)"
      ],
      "id": "TyYriQF-7Ewk"
    },
    {
      "cell_type": "code",
      "execution_count": 13,
      "metadata": {
        "id": "gqbZWr3P7eq9"
      },
      "outputs": [],
      "source": [
        "train_expenditure = train_data['Total expenditure'].median()\n",
        "\n",
        "train_data['Total expenditure'] = train_data['Total expenditure'].fillna(train_expenditure)"
      ],
      "id": "gqbZWr3P7eq9"
    },
    {
      "cell_type": "code",
      "execution_count": 14,
      "metadata": {
        "id": "c1Wg9SEP7e4n"
      },
      "outputs": [],
      "source": [
        "train_GDP = train_data['GDP'].median()\n",
        "\n",
        "train_data['GDP'] = train_data['GDP'].fillna(train_GDP)"
      ],
      "id": "c1Wg9SEP7e4n"
    },
    {
      "cell_type": "code",
      "execution_count": 15,
      "metadata": {
        "id": "ozuEMwbm7fD3"
      },
      "outputs": [],
      "source": [
        "train_BMI = train_data['BMI'].median()\n",
        "\n",
        "train_data['BMI'] = train_data['BMI'].fillna(train_BMI)"
      ],
      "id": "ozuEMwbm7fD3"
    },
    {
      "cell_type": "code",
      "execution_count": 16,
      "metadata": {
        "id": "Rv3tuMzI7fPG"
      },
      "outputs": [],
      "source": [
        "train_thinness = train_data['thinness  1-19 years'].median()\n",
        "\n",
        "train_data['thinness  1-19 years'] = train_data['thinness  1-19 years'].fillna(train_thinness)"
      ],
      "id": "Rv3tuMzI7fPG"
    },
    {
      "cell_type": "code",
      "execution_count": 17,
      "metadata": {
        "id": "u762RmBl7fai"
      },
      "outputs": [],
      "source": [
        "train_Alcohol = train_data['Alcohol'].median()\n",
        "\n",
        "train_data['Alcohol'] = train_data['Alcohol'].fillna(train_Alcohol)"
      ],
      "id": "u762RmBl7fai"
    },
    {
      "cell_type": "code",
      "execution_count": 18,
      "metadata": {
        "id": "caKCKVq87E6h"
      },
      "outputs": [],
      "source": [
        "train_Schooling = train_data['Schooling'].median()\n",
        "\n",
        "train_data['Schooling'] = train_data['Schooling'].fillna(train_Schooling)"
      ],
      "id": "caKCKVq87E6h"
    },
    {
      "cell_type": "code",
      "execution_count": 19,
      "metadata": {
        "id": "39LXDi_3MIOe"
      },
      "outputs": [],
      "source": [
        "test_data['Hepatitis B'] = test_data['Hepatitis B'].fillna(train_data['Hepatitis B'].median())\n",
        "test_data['Total expenditure'] = test_data['Total expenditure'].fillna(train_data['Total expenditure'].median())\n",
        "test_data['Alcohol'] = test_data['Alcohol'].fillna(train_data['Alcohol'].median())\n",
        "test_data['GDP'] = test_data['GDP'].fillna(train_data['GDP'].median())"
      ],
      "id": "39LXDi_3MIOe"
    },
    {
      "cell_type": "code",
      "execution_count": 22,
      "metadata": {
        "id": "5cXkQhB3G15y",
        "colab": {
          "base_uri": "https://localhost:8080/",
          "height": 869
        },
        "outputId": "af3f84e8-5cf0-4062-ab76-d122891401e0"
      },
      "outputs": [
        {
          "output_type": "execute_result",
          "data": {
            "text/plain": [
              "<AxesSubplot:>"
            ]
          },
          "metadata": {},
          "execution_count": 22
        },
        {
          "output_type": "display_data",
          "data": {
            "text/plain": [
              "<Figure size 936x936 with 2 Axes>"
            ],
            "image/png": "[encoded data removed]"
          },
          "metadata": {
            "needs_background": "light"
          }
        }
      ],
      "source": [
        "import seaborn as sns\n",
        "import matplotlib.pyplot as plt\n",
        "\n",
        "plt.subplots(figsize=(13,13))\n",
        "sns.heatmap(train_data.corr(),annot=True)"
      ],
      "id": "5cXkQhB3G15y"
    },
    {
      "cell_type": "code",
      "execution_count": 23,
      "metadata": {
        "id": "iRncfWnhCkZq"
      },
      "outputs": [],
      "source": [
        "# drop comments column \n",
        "train_data.drop(columns= ['Country','Population'], inplace= True)\n",
        "test_data.drop(columns= ['Country','Population'], inplace= True)"
      ],
      "id": "iRncfWnhCkZq"
    },
    {
      "cell_type": "markdown",
      "source": [
        "**model**"
      ],
      "metadata": {
        "id": "-KdGN8WH3iIn"
      },
      "id": "-KdGN8WH3iIn"
    },
    {
      "cell_type": "code",
      "execution_count": 25,
      "metadata": {
        "id": "VCouzQoG6w-Z"
      },
      "outputs": [],
      "source": [
        "y=  train_data[['Life expectancy']]"
      ],
      "id": "VCouzQoG6w-Z"
    },
    {
      "cell_type": "code",
      "execution_count": 26,
      "metadata": {
        "id": "qEp3_gH46xCU"
      },
      "outputs": [],
      "source": [
        "x = train_data.copy()\n",
        "x.drop(columns= ['Life expectancy'], inplace= True)"
      ],
      "id": "qEp3_gH46xCU"
    },
    {
      "cell_type": "code",
      "source": [
        "from sklearn.model_selection import train_test_split\n",
        "\n",
        "X_train, X_test, y_train, y_test = train_test_split(x, y, test_size=0.2, shuffle=True)\n",
        "X_train, X_val, y_train, y_val = train_test_split(X_train, y_train, test_size=0.25, shuffle=True)"
      ],
      "metadata": {
        "id": "c_7oLLlv37Fe"
      },
      "id": "c_7oLLlv37Fe",
      "execution_count": 28,
      "outputs": []
    },
    {
      "cell_type": "code",
      "execution_count": 29,
      "metadata": {
        "id": "bHOBM8aGfBBc"
      },
      "outputs": [],
      "source": [
        "from sklearn.preprocessing import PolynomialFeatures\n",
        "from sklearn.linear_model import LinearRegression\n",
        "\n",
        "poly_transformer = PolynomialFeatures(degree=2, include_bias=True)\n",
        "X_train = poly_transformer.fit_transform(X_train)\n",
        "X_val = poly_transformer.transform(X_val)\n",
        "X_test = poly_transformer.transform(X_test)\n",
        "\n",
        "model = LinearRegression()\n",
        "model.fit(X_train, y_train)\n",
        "y_pred = model.predict(X_val)"
      ],
      "id": "bHOBM8aGfBBc"
    },
    {
      "cell_type": "code",
      "execution_count": 30,
      "metadata": {
        "colab": {
          "base_uri": "https://localhost:8080/"
        },
        "id": "f3f005b7",
        "outputId": "06cdbdd5-43cb-4469-81c4-299392e6890c"
      },
      "outputs": [
        {
          "output_type": "execute_result",
          "data": {
            "text/plain": [
              "0.8417013431529389"
            ]
          },
          "metadata": {},
          "execution_count": 30
        }
      ],
      "source": [
        "# evaluate your model by val\n",
        "from sklearn.metrics import r2_score\n",
        "\n",
        "r2_score(y_val, y_pred)"
      ],
      "id": "f3f005b7"
    },
    {
      "cell_type": "code",
      "source": [
        "y_pred = model.predict(X_test)"
      ],
      "metadata": {
        "id": "1fs_5NB94lB3"
      },
      "id": "1fs_5NB94lB3",
      "execution_count": 31,
      "outputs": []
    },
    {
      "cell_type": "code",
      "source": [
        "# evaluate your model by test\n",
        "\n",
        "r2_score(y_test, y_pred)"
      ],
      "metadata": {
        "colab": {
          "base_uri": "https://localhost:8080/"
        },
        "id": "dvfJugd24gVp",
        "outputId": "f061eb1e-9752-4d29-9e64-282897d119e1"
      },
      "id": "dvfJugd24gVp",
      "execution_count": 33,
      "outputs": [
        {
          "output_type": "execute_result",
          "data": {
            "text/plain": [
              "0.8133934288347263"
            ]
          },
          "metadata": {},
          "execution_count": 33
        }
      ]
    }
  ],
  "metadata": {
    "colab": {
      "provenance": []
    },
    "kernelspec": {
      "display_name": "Python 3.9.7 ('base')",
      "language": "python",
      "name": "python3"
    },
    "language_info": {
      "codemirror_mode": {
        "name": "ipython",
        "version": 3
      },
      "file_extension": ".py",
      "mimetype": "text/x-python",
      "name": "python",
      "nbconvert_exporter": "python",
      "pygments_lexer": "ipython3",
      "version": "3.9.7"
    },
    "vscode": {
      "interpreter": {
        "hash": "ad2bdc8ecc057115af97d19610ffacc2b4e99fae6737bb82f5d7fb13d2f2c186"
      }
    }
  },
  "nbformat": 4,
  "nbformat_minor": 5
}